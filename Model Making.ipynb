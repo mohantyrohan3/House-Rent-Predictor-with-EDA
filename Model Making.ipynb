{
 "cells": [
  {
   "cell_type": "code",
   "execution_count": 2,
   "id": "0a6136c9",
   "metadata": {},
   "outputs": [],
   "source": [
    "import numpy as np\n",
    "import pandas as pd\n",
    "import matplotlib.pyplot as plt"
   ]
  },
  {
   "cell_type": "code",
   "execution_count": 7,
   "id": "20733024",
   "metadata": {},
   "outputs": [
    {
     "data": {
      "text/html": [
       "<div>\n",
       "<style scoped>\n",
       "    .dataframe tbody tr th:only-of-type {\n",
       "        vertical-align: middle;\n",
       "    }\n",
       "\n",
       "    .dataframe tbody tr th {\n",
       "        vertical-align: top;\n",
       "    }\n",
       "\n",
       "    .dataframe thead th {\n",
       "        text-align: right;\n",
       "    }\n",
       "</style>\n",
       "<table border=\"1\" class=\"dataframe\">\n",
       "  <thead>\n",
       "    <tr style=\"text-align: right;\">\n",
       "      <th></th>\n",
       "      <th>seller_type</th>\n",
       "      <th>bedroom</th>\n",
       "      <th>layout_type</th>\n",
       "      <th>property_type</th>\n",
       "      <th>locality</th>\n",
       "      <th>price</th>\n",
       "      <th>area</th>\n",
       "      <th>furnish_type</th>\n",
       "      <th>bathroom</th>\n",
       "      <th>city</th>\n",
       "    </tr>\n",
       "  </thead>\n",
       "  <tbody>\n",
       "    <tr>\n",
       "      <th>0</th>\n",
       "      <td>OWNER</td>\n",
       "      <td>2.0</td>\n",
       "      <td>BHK</td>\n",
       "      <td>Apartment</td>\n",
       "      <td>Bodakdev</td>\n",
       "      <td>20000.0</td>\n",
       "      <td>1450.0</td>\n",
       "      <td>Furnished</td>\n",
       "      <td>2.0</td>\n",
       "      <td>Ahmedabad</td>\n",
       "    </tr>\n",
       "    <tr>\n",
       "      <th>1</th>\n",
       "      <td>OWNER</td>\n",
       "      <td>1.0</td>\n",
       "      <td>RK</td>\n",
       "      <td>Studio Apartment</td>\n",
       "      <td>CG Road</td>\n",
       "      <td>7350.0</td>\n",
       "      <td>210.0</td>\n",
       "      <td>Semi-Furnished</td>\n",
       "      <td>1.0</td>\n",
       "      <td>Ahmedabad</td>\n",
       "    </tr>\n",
       "    <tr>\n",
       "      <th>2</th>\n",
       "      <td>OWNER</td>\n",
       "      <td>3.0</td>\n",
       "      <td>BHK</td>\n",
       "      <td>Apartment</td>\n",
       "      <td>Jodhpur</td>\n",
       "      <td>22000.0</td>\n",
       "      <td>1900.0</td>\n",
       "      <td>Unfurnished</td>\n",
       "      <td>3.0</td>\n",
       "      <td>Ahmedabad</td>\n",
       "    </tr>\n",
       "    <tr>\n",
       "      <th>3</th>\n",
       "      <td>OWNER</td>\n",
       "      <td>2.0</td>\n",
       "      <td>BHK</td>\n",
       "      <td>Independent House</td>\n",
       "      <td>Sanand</td>\n",
       "      <td>13000.0</td>\n",
       "      <td>1285.0</td>\n",
       "      <td>Semi-Furnished</td>\n",
       "      <td>2.0</td>\n",
       "      <td>Ahmedabad</td>\n",
       "    </tr>\n",
       "    <tr>\n",
       "      <th>4</th>\n",
       "      <td>OWNER</td>\n",
       "      <td>2.0</td>\n",
       "      <td>BHK</td>\n",
       "      <td>Independent House</td>\n",
       "      <td>Navrangpura</td>\n",
       "      <td>18000.0</td>\n",
       "      <td>1600.0</td>\n",
       "      <td>Furnished</td>\n",
       "      <td>2.0</td>\n",
       "      <td>Ahmedabad</td>\n",
       "    </tr>\n",
       "    <tr>\n",
       "      <th>...</th>\n",
       "      <td>...</td>\n",
       "      <td>...</td>\n",
       "      <td>...</td>\n",
       "      <td>...</td>\n",
       "      <td>...</td>\n",
       "      <td>...</td>\n",
       "      <td>...</td>\n",
       "      <td>...</td>\n",
       "      <td>...</td>\n",
       "      <td>...</td>\n",
       "    </tr>\n",
       "    <tr>\n",
       "      <th>193006</th>\n",
       "      <td>OWNER</td>\n",
       "      <td>1.0</td>\n",
       "      <td>BHK</td>\n",
       "      <td>Apartment</td>\n",
       "      <td>Chinchwad</td>\n",
       "      <td>13250.0</td>\n",
       "      <td>650.0</td>\n",
       "      <td>Semi-Furnished</td>\n",
       "      <td>1.0</td>\n",
       "      <td>Pune</td>\n",
       "    </tr>\n",
       "    <tr>\n",
       "      <th>193007</th>\n",
       "      <td>OWNER</td>\n",
       "      <td>1.0</td>\n",
       "      <td>RK</td>\n",
       "      <td>Studio Apartment</td>\n",
       "      <td>Wadgaon Sheri</td>\n",
       "      <td>7000.0</td>\n",
       "      <td>350.0</td>\n",
       "      <td>Unfurnished</td>\n",
       "      <td>1.0</td>\n",
       "      <td>Pune</td>\n",
       "    </tr>\n",
       "    <tr>\n",
       "      <th>193008</th>\n",
       "      <td>OWNER</td>\n",
       "      <td>1.0</td>\n",
       "      <td>BHK</td>\n",
       "      <td>Apartment</td>\n",
       "      <td>Kothrud</td>\n",
       "      <td>8500.0</td>\n",
       "      <td>389.0</td>\n",
       "      <td>Semi-Furnished</td>\n",
       "      <td>1.0</td>\n",
       "      <td>Pune</td>\n",
       "    </tr>\n",
       "    <tr>\n",
       "      <th>193009</th>\n",
       "      <td>AGENT</td>\n",
       "      <td>1.0</td>\n",
       "      <td>BHK</td>\n",
       "      <td>Apartment</td>\n",
       "      <td>Wakad</td>\n",
       "      <td>16500.0</td>\n",
       "      <td>670.0</td>\n",
       "      <td>Semi-Furnished</td>\n",
       "      <td>2.0</td>\n",
       "      <td>Pune</td>\n",
       "    </tr>\n",
       "    <tr>\n",
       "      <th>193010</th>\n",
       "      <td>AGENT</td>\n",
       "      <td>2.0</td>\n",
       "      <td>BHK</td>\n",
       "      <td>Apartment</td>\n",
       "      <td>Alandi</td>\n",
       "      <td>12000.0</td>\n",
       "      <td>800.0</td>\n",
       "      <td>Unfurnished</td>\n",
       "      <td>2.0</td>\n",
       "      <td>Pune</td>\n",
       "    </tr>\n",
       "  </tbody>\n",
       "</table>\n",
       "<p>193011 rows × 10 columns</p>\n",
       "</div>"
      ],
      "text/plain": [
       "       seller_type  bedroom layout_type      property_type       locality  \\\n",
       "0            OWNER      2.0         BHK          Apartment       Bodakdev   \n",
       "1            OWNER      1.0          RK   Studio Apartment        CG Road   \n",
       "2            OWNER      3.0         BHK          Apartment        Jodhpur   \n",
       "3            OWNER      2.0         BHK  Independent House         Sanand   \n",
       "4            OWNER      2.0         BHK  Independent House    Navrangpura   \n",
       "...            ...      ...         ...                ...            ...   \n",
       "193006       OWNER      1.0         BHK          Apartment      Chinchwad   \n",
       "193007       OWNER      1.0          RK   Studio Apartment  Wadgaon Sheri   \n",
       "193008       OWNER      1.0         BHK          Apartment        Kothrud   \n",
       "193009       AGENT      1.0         BHK          Apartment          Wakad   \n",
       "193010       AGENT      2.0         BHK          Apartment         Alandi   \n",
       "\n",
       "          price    area    furnish_type  bathroom       city  \n",
       "0       20000.0  1450.0       Furnished       2.0  Ahmedabad  \n",
       "1        7350.0   210.0  Semi-Furnished       1.0  Ahmedabad  \n",
       "2       22000.0  1900.0     Unfurnished       3.0  Ahmedabad  \n",
       "3       13000.0  1285.0  Semi-Furnished       2.0  Ahmedabad  \n",
       "4       18000.0  1600.0       Furnished       2.0  Ahmedabad  \n",
       "...         ...     ...             ...       ...        ...  \n",
       "193006  13250.0   650.0  Semi-Furnished       1.0       Pune  \n",
       "193007   7000.0   350.0     Unfurnished       1.0       Pune  \n",
       "193008   8500.0   389.0  Semi-Furnished       1.0       Pune  \n",
       "193009  16500.0   670.0  Semi-Furnished       2.0       Pune  \n",
       "193010  12000.0   800.0     Unfurnished       2.0       Pune  \n",
       "\n",
       "[193011 rows x 10 columns]"
      ]
     },
     "execution_count": 7,
     "metadata": {},
     "output_type": "execute_result"
    }
   ],
   "source": [
    "df=pd.read_csv('_All_Cities_Cleaned.csv')\n",
    "df"
   ]
  },
  {
   "cell_type": "code",
   "execution_count": 15,
   "id": "517ef6bc",
   "metadata": {},
   "outputs": [
    {
     "data": {
      "text/plain": [
       "seller_type      0\n",
       "bedroom          0\n",
       "layout_type      0\n",
       "property_type    0\n",
       "locality         0\n",
       "price            0\n",
       "area             0\n",
       "furnish_type     0\n",
       "bathroom         0\n",
       "city             0\n",
       "dtype: int64"
      ]
     },
     "execution_count": 15,
     "metadata": {},
     "output_type": "execute_result"
    }
   ],
   "source": [
    "# Checking IF any Null values present\n",
    "df.isnull().sum()"
   ]
  },
  {
   "cell_type": "code",
   "execution_count": 16,
   "id": "952105ec",
   "metadata": {},
   "outputs": [
    {
     "data": {
      "text/plain": [
       "Mumbai       67416\n",
       "Delhi        32608\n",
       "Bangalore    23072\n",
       "Pune         22596\n",
       "Ahmedabad    18453\n",
       "Hyderabad    10544\n",
       "Kolkata       9664\n",
       "Chennai       8658\n",
       "Name: city, dtype: int64"
      ]
     },
     "execution_count": 16,
     "metadata": {},
     "output_type": "execute_result"
    }
   ],
   "source": [
    "df['city'].value_counts()"
   ]
  },
  {
   "cell_type": "markdown",
   "id": "f628b430",
   "metadata": {},
   "source": [
    "### Creating Json File for columns"
   ]
  },
  {
   "cell_type": "code",
   "execution_count": 25,
   "id": "e882b2e6",
   "metadata": {},
   "outputs": [],
   "source": [
    "column=['bedroom','area','bathroom']\n",
    "import json\n",
    "columns={\n",
    "    'data_columns':column\n",
    "}\n",
    "with open('columns.json','w') as f:\n",
    "    f.write(json.dumps(columns))"
   ]
  },
  {
   "cell_type": "markdown",
   "id": "fb952301",
   "metadata": {},
   "source": [
    "# Making Prediction Models"
   ]
  },
  {
   "cell_type": "code",
   "execution_count": 14,
   "id": "c1ad71ec",
   "metadata": {},
   "outputs": [
    {
     "data": {
      "text/plain": [
       "bedroom     float64\n",
       "price       float64\n",
       "area        float64\n",
       "bathroom    float64\n",
       "dtype: object"
      ]
     },
     "execution_count": 14,
     "metadata": {},
     "output_type": "execute_result"
    }
   ],
   "source": [
    "# For Ahmedabad\n",
    "df1=df[df['city']=='Ahmedabad']\n",
    "df1=df1[['bedroom','price','area','bathroom']]"
   ]
  },
  {
   "cell_type": "code",
   "execution_count": 17,
   "id": "b55dcd9b",
   "metadata": {},
   "outputs": [],
   "source": [
    "from sklearn import linear_model\n",
    "reg=linear_model.LinearRegression()"
   ]
  },
  {
   "cell_type": "code",
   "execution_count": 18,
   "id": "acf8d7ff",
   "metadata": {},
   "outputs": [
    {
     "data": {
      "text/plain": [
       "LinearRegression()"
      ]
     },
     "execution_count": 18,
     "metadata": {},
     "output_type": "execute_result"
    }
   ],
   "source": [
    "reg.fit(df1[['bedroom','area','bathroom']],df1['price'])"
   ]
  },
  {
   "cell_type": "code",
   "execution_count": 22,
   "id": "abf85b4a",
   "metadata": {},
   "outputs": [
    {
     "data": {
      "text/plain": [
       "array([20669.0798854])"
      ]
     },
     "execution_count": 22,
     "metadata": {},
     "output_type": "execute_result"
    }
   ],
   "source": [
    "reg.predict([[2,1500,2]])"
   ]
  },
  {
   "cell_type": "code",
   "execution_count": 23,
   "id": "f471bd9f",
   "metadata": {},
   "outputs": [],
   "source": [
    "import pickle\n",
    "with open('ahmedabad_model','wb') as f:\n",
    "    pickle.dump(reg,f)"
   ]
  },
  {
   "cell_type": "markdown",
   "id": "bd475c54",
   "metadata": {},
   "source": [
    "# Now Creating All the models for various cities"
   ]
  },
  {
   "cell_type": "code",
   "execution_count": 27,
   "id": "afb3a776",
   "metadata": {},
   "outputs": [
    {
     "name": "stdout",
     "output_type": "stream",
     "text": [
      "PYTHONPATH: None\n",
      "PATH: C:\\Users\\mohan\\anaconda3;C:\\Users\\mohan\\anaconda3\\Library\\mingw-w64\\bin;C:\\Users\\mohan\\anaconda3\\Library\\usr\\bin;C:\\Users\\mohan\\anaconda3\\Library\\bin;C:\\Users\\mohan\\anaconda3\\Scripts;C:\\Users\\mohan\\anaconda3\\bin;C:\\Users\\mohan\\anaconda3\\condabin;C:\\Program Files (x86)\\NVIDIA Corporation\\PhysX\\Common;C:\\Program Files (x86)\\Common Files\\Oracle\\Java\\javapath;C:\\ProgramData\\Oracle\\Java\\javapath;C:\\WINDOWS\\system32;C:\\WINDOWS;C:\\WINDOWS\\System32\\Wbem;C:\\WINDOWS\\System32\\WindowsPowerShell\\v1.0;C:\\WINDOWS\\System32\\OpenSSH;C:\\MinGW\\bin;C:\\Users\\mohan\\anaconda3;C:\\Users\\mohan\\anaconda3\\Scripts;C:\\Program Files\\dotnet;C:\\Program Files (x86)\\dotnet;C:\\Program Files\\Git\\cmd;C:\\Program Files\\Docker\\Docker\\resources\\bin;C:\\ProgramData\\DockerDesktop\\version-bin;C:\\Program Files\\MySQL\\MySQL Server 8.0\\bin;C:\\Program Files\\MySQL\\MySQL Shell 8.0\\bin;C:\\Users\\mohan\\AppData\\Local\\Programs\\Python\\Python310\\Scripts;C:\\Users\\mohan\\AppData\\Local\\Programs\\Python\\Python310;C:\\Users\\mohan\\AppData\\Local\\Microsoft\\WindowsApps;C:\\Users\\mohan\\AppData\\Local\\Programs\\Microsoft VS Code\\bin;C:\\Program Files\\JetBrains\\PyCharm Community Edition 2021.2.2\\bin;C:\\Users\\mohan\\.dotnet\\tools;C:\\src\\flutter\\bin;C:\\Users\\mohan\\AppData\\Local\\gitkraken\\bin;C:\\Hugo\\bin;C:\\MinGW\\bin;C:\\Users\\mohan\\AppData\\Local\\atom\\bin;C:\\Program Files\\MySQL\\MySQL Server 8.0\\bin;C:\\Users\\mohan\\AppData\\Local\\Microsoft\\WindowsApps;C:\\Program Files\\heroku\\bin;.\n"
     ]
    }
   ],
   "source": [
    "import os\n",
    "print(\"PYTHONPATH:\", os.environ.get('PYTHONPATH'))\n",
    "print(\"PATH:\", os.environ.get('PATH'))"
   ]
  },
  {
   "cell_type": "code",
   "execution_count": null,
   "id": "c05ac55b",
   "metadata": {},
   "outputs": [],
   "source": []
  }
 ],
 "metadata": {
  "kernelspec": {
   "display_name": "Python 3 (ipykernel)",
   "language": "python",
   "name": "python3"
  },
  "language_info": {
   "codemirror_mode": {
    "name": "ipython",
    "version": 3
   },
   "file_extension": ".py",
   "mimetype": "text/x-python",
   "name": "python",
   "nbconvert_exporter": "python",
   "pygments_lexer": "ipython3",
   "version": "3.9.7"
  }
 },
 "nbformat": 4,
 "nbformat_minor": 5
}
